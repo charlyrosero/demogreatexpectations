{
 "cells": [
  {
   "cell_type": "markdown",
   "id": "e2d37ea8",
   "metadata": {},
   "source": [
    "### Considerations for the Demonstration\n",
    "\n",
    "- The dataset we will work with is a synthetic sample of credit card transactions containing 1,000 records.\n",
    "- The dataset includes the following fields: `transaction_id`, `customer_id`, `transaction_date`, `transaction_amount`, `account_type`, `transaction_type`, and `status`.\n",
    "- It is necessary to implement a solution to detect data quality issues in the following areas:\n",
    "  - **Accuracy**: Transaction amounts must not be negative. However, a small margin of negative values may be acceptable in specific cases.\n",
    "  - **Completeness**: Transaction types must not contain empty values."
   ]
  },
  {
   "cell_type": "code",
   "execution_count": 1,
   "id": "a9499bdf",
   "metadata": {},
   "outputs": [
    {
     "name": "stdout",
     "output_type": "stream",
     "text": [
      "   transaction_id  customer_id transaction_type  transaction_amount\n",
      "0               1         2685       withdrawal         2310.159223\n",
      "1               2         1769       withdrawal         2069.799784\n",
      "2               3         7949       withdrawal         6383.228325\n",
      "3               4         3433       withdrawal         2576.269638\n",
      "4               5         6311       withdrawal         6323.834705\n",
      "5               6         6051          deposit          593.961595\n",
      "6               7         7420         transfer         1426.326191\n",
      "7               8         2184          deposit         2752.657137\n",
      "8               9         5555       withdrawal         5974.498700\n"
     ]
    }
   ],
   "source": [
    "import pandas as pd\n",
    "import numpy as np\n",
    "import matplotlib.pyplot as plt\n",
    "from tabulate import tabulate\n",
    "import great_expectations as gx\n",
    "\n",
    "df = pd.read_csv('../data/synthetic_data.csv')\n",
    "print(df[['transaction_id', 'customer_id', 'transaction_type', 'transaction_amount']].head(9))\n",
    "\n",
    "context = gx.get_context()\n",
    "\n",
    "data_source = context.data_sources.add_pandas(\"pandas\")\n",
    "data_asset = data_source.add_dataframe_asset(name=\"pd dataframe asset\")\n",
    "batch_definition = data_asset.add_batch_definition_whole_dataframe(\"batch definition\")\n",
    "batch = batch_definition.get_batch(batch_parameters={\"dataframe\": df})"
   ]
  },
  {
   "cell_type": "markdown",
   "id": "191bac7d",
   "metadata": {
    "vscode": {
     "languageId": "plaintext"
    }
   },
   "source": [
    "## Implementing Data Quality Checks with Great Expectations\n",
    "\n",
    "We'll now define and execute expectations for our two focus dimensions:\n",
    "\n",
    "### 1. Accuracy Expectations\n",
    "- Transaction amounts should be positive"
   ]
  },
  {
   "cell_type": "code",
   "execution_count": 2,
   "id": "a8d970c8",
   "metadata": {},
   "outputs": [
    {
     "name": "stdout",
     "output_type": "stream",
     "text": [
      "Executing Accuracy Expectations...\n"
     ]
    },
    {
     "data": {
      "application/vnd.jupyter.widget-view+json": {
       "model_id": "e59793463e594588bec0607a9f868637",
       "version_major": 2,
       "version_minor": 0
      },
      "text/plain": [
       "Calculating Metrics:   0%|          | 0/10 [00:00<?, ?it/s]"
      ]
     },
     "metadata": {},
     "output_type": "display_data"
    },
    {
     "name": "stdout",
     "output_type": "stream",
     "text": [
      "|    | Data Quality Issue   | Expectation                  | Success   |   Total records |   Unexpected records | Unexpected percentage   |\n",
      "|----|----------------------|------------------------------|-----------|-----------------|----------------------|-------------------------|\n",
      "|  0 | Accuracy             | Positive Transaction Amounts | True      |            1000 |                   19 | 1.96%                   |\n"
     ]
    }
   ],
   "source": [
    "\n",
    "# Define expectations\n",
    "expectations_results = []\n",
    "\n",
    "# Accuracy Expectations\n",
    "print(\"Executing Accuracy Expectations...\")\n",
    "\n",
    "# 1. Transaction Amount Validation\n",
    "expectation = gx.expectations.ExpectColumnValuesToBeBetween(\n",
    "    column=\"transaction_amount\", \n",
    "    min_value=0,\n",
    "    mostly=0.95\n",
    ")\n",
    "\n",
    "validation_result = batch.validate(expectation)\n",
    "\n",
    "expectations_results.append({\n",
    "    'Data Quality Issue': 'Accuracy',\n",
    "    'Expectation': 'Positive Transaction Amounts',\n",
    "    'Success': validation_result['success'],\n",
    "    'Total records': validation_result['result']['element_count'],\n",
    "    'Unexpected records': validation_result['result']['unexpected_count'],\n",
    "    'Unexpected percentage': f\"{validation_result['result']['unexpected_percent']:.2f}%\",\n",
    "    #'Partial List': validation_result['result']['partial_unexpected_list'],\n",
    "})\n",
    "df_results = pd.DataFrame(expectations_results)\n",
    "from tabulate import tabulate\n",
    "\n",
    "print(tabulate(df_results, headers='keys', tablefmt='github'))\n"
   ]
  },
  {
   "cell_type": "markdown",
   "id": "57720573",
   "metadata": {},
   "source": [
    "### 2. Completeness Expectations\n",
    "- Identifying missing transaction_type values"
   ]
  },
  {
   "cell_type": "code",
   "execution_count": 7,
   "id": "631372fd",
   "metadata": {},
   "outputs": [
    {
     "name": "stdout",
     "output_type": "stream",
     "text": [
      "Executing Completeness Expectations...\n"
     ]
    },
    {
     "data": {
      "application/vnd.jupyter.widget-view+json": {
       "model_id": "7959a3e6529942a9a0f198cb2d666169",
       "version_major": 2,
       "version_minor": 0
      },
      "text/plain": [
       "Calculating Metrics:   0%|          | 0/8 [00:00<?, ?it/s]"
      ]
     },
     "metadata": {},
     "output_type": "display_data"
    },
    {
     "name": "stdout",
     "output_type": "stream",
     "text": [
      "|    | Data Quality Issue   | Expectation                                          | Success   |   Total records |   Unexpected records | Unexpected percentage   |\n",
      "|----|----------------------|------------------------------------------------------|-----------|-----------------|----------------------|-------------------------|\n",
      "|  0 | Accuracy             | Positive Transaction Amounts                         | False     |            1000 |                   19 | 1.96%                   |\n",
      "|  1 | Completeness         | Expect transaction_type column values to not be null | False     |            1000 |                   92 | 9.20%                   |\n"
     ]
    }
   ],
   "source": [
    "# 1. Transaction Amount Validation\n",
    "expectation = gx.expectations.ExpectColumnValuesToNotBeNull(\n",
    "    column=\"transaction_type\",\n",
    "    #value_set=[\"deposit\", \"withdrawal\", \"transfer\", \"payment\"]\n",
    ")\n",
    "\n",
    "print(\"Executing Completeness Expectations...\")\n",
    "\n",
    "validation_result = batch.validate(expectation)\n",
    "\n",
    "expectations_results.append({\n",
    "        'Data Quality Issue': 'Completeness',\n",
    "        'Expectation': 'Expect transaction_type column values to not be null',\n",
    "        'Success': validation_result['success'],\n",
    "        'Total records': validation_result['result']['element_count'],\n",
    "        'Unexpected records': validation_result['result']['unexpected_count'],\n",
    "        'Unexpected percentage': f\"{validation_result['result']['unexpected_percent']:.2f}%\",\n",
    "        #'Partial List': validation_result['result']['partial_unexpected_list'],\n",
    "    })\n",
    "df_results = pd.DataFrame(expectations_results)\n",
    "from tabulate import tabulate\n",
    "df_results = pd.DataFrame(expectations_results)\n",
    "print(tabulate(df_results, headers='keys', tablefmt='github'))"
   ]
  }
 ],
 "metadata": {
  "kernelspec": {
   "display_name": ".venv",
   "language": "python",
   "name": "python3"
  },
  "language_info": {
   "codemirror_mode": {
    "name": "ipython",
    "version": 3
   },
   "file_extension": ".py",
   "mimetype": "text/x-python",
   "name": "python",
   "nbconvert_exporter": "python",
   "pygments_lexer": "ipython3",
   "version": "3.9.22"
  }
 },
 "nbformat": 4,
 "nbformat_minor": 5
}

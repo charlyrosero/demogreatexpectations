{
 "cells": [
  {
   "cell_type": "code",
   "execution_count": null,
   "id": "597bf17a",
   "metadata": {},
   "outputs": [],
   "source": [
    "!pip install great_expectations"
   ]
  },
  {
   "cell_type": "code",
   "execution_count": 1,
   "id": "2ab24577",
   "metadata": {},
   "outputs": [],
   "source": [
    "#https://docs.greatexpectations.io/docs/core/introduction/try_gx\n",
    "#Version for demo 1.0.0\n",
    "\n",
    "#Prequisites: Python version 3.8 to 3.11\n",
    "\n",
    "#pip install pandas\n",
    "#pip install great_expectations\n",
    "\n",
    "\n",
    "#1- Import the following libraries\n",
    "import great_expectations as gx\n",
    "# Pandas -> \n",
    "import pandas as pd\n",
    "\n",
    "# -> Line to check gx core version: print(gx.__version__)\n",
    "\n",
    "\n",
    "\n",
    "#3- A Data Context object serves as the entrypoint for interacting with GX components.\n",
    "context = gx.get_context()\n"
   ]
  },
  {
   "cell_type": "code",
   "execution_count": 2,
   "id": "c81ae349",
   "metadata": {},
   "outputs": [],
   "source": [
    "\n",
    "# 2- Download and read the sample data into a Pandas DataFrame.\n",
    "df = pd.read_csv(\n",
    "    \"https://raw.githubusercontent.com/great-expectations/gx_tutorials/main/data/yellow_tripdata_sample_2019-01.csv\"\n",
    ")\n",
    "\n",
    "#4- Connect to data and create a Batch.\n",
    "# Define a Data Source, Data Asset, Batch Definition, and Batch. The Pandas DataFrame is provided to the Batch Definition at runtime to create the Batch.\n",
    "\n",
    "data_source = context.data_sources.add_pandas(\"pandas\")\n",
    "data_asset = data_source.add_dataframe_asset(name=\"pd dataframe asset\")\n",
    "\n",
    "batch_definition = data_asset.add_batch_definition_whole_dataframe(\"batch definition\")\n",
    "batch = batch_definition.get_batch(batch_parameters={\"dataframe\": df})\n"
   ]
  },
  {
   "cell_type": "code",
   "execution_count": null,
   "id": "fbf802df",
   "metadata": {},
   "outputs": [],
   "source": [
    "#Create an Expectation.\n",
    "#Expectations are a fundamental component of GX. They allow you to explicitly define the state to which your data should conform.\n",
    "#Run the following code to define an Expectation that the contents of the column passenger_count consist of values ranging from 2 to 6:\n",
    "expectation = gx.expectations.ExpectColumnValuesToBeBetween(\n",
    "    column=\"passenger_count\", min_value=2, max_value=6\n",
    ")\n",
    "\n"
   ]
  },
  {
   "cell_type": "code",
   "execution_count": 5,
   "id": "08a6b0f0",
   "metadata": {},
   "outputs": [
    {
     "data": {
      "application/vnd.jupyter.widget-view+json": {
       "model_id": "f87448d3819e4949a5442d3a09e1a6bf",
       "version_major": 2,
       "version_minor": 0
      },
      "text/plain": [
       "Calculating Metrics:   0%|          | 0/10 [00:00<?, ?it/s]"
      ]
     },
     "metadata": {},
     "output_type": "display_data"
    },
    {
     "name": "stdout",
     "output_type": "stream",
     "text": [
      "{\n",
      "  \"success\": false,\n",
      "  \"expectation_config\": {\n",
      "    \"type\": \"expect_column_values_to_be_between\",\n",
      "    \"kwargs\": {\n",
      "      \"batch_id\": \"pandas-pd dataframe asset\",\n",
      "      \"column\": \"passenger_count\",\n",
      "      \"min_value\": 2.0,\n",
      "      \"max_value\": 6.0\n",
      "    },\n",
      "    \"meta\": {}\n",
      "  },\n",
      "  \"result\": {\n",
      "    \"element_count\": 10000,\n",
      "    \"unexpected_count\": 7299,\n",
      "    \"unexpected_percent\": 72.99,\n",
      "    \"partial_unexpected_list\": [\n",
      "      1,\n",
      "      1,\n",
      "      1,\n",
      "      1,\n",
      "      1,\n",
      "      1,\n",
      "      1,\n",
      "      1,\n",
      "      1,\n",
      "      1,\n",
      "      1,\n",
      "      1,\n",
      "      1,\n",
      "      1,\n",
      "      1,\n",
      "      1,\n",
      "      1,\n",
      "      1,\n",
      "      1,\n",
      "      1\n",
      "    ],\n",
      "    \"missing_count\": 0,\n",
      "    \"missing_percent\": 0.0,\n",
      "    \"unexpected_percent_total\": 72.99,\n",
      "    \"unexpected_percent_nonmissing\": 72.99,\n",
      "    \"partial_unexpected_counts\": [\n",
      "      {\n",
      "        \"value\": 1,\n",
      "        \"count\": 20\n",
      "      }\n",
      "    ],\n",
      "    \"partial_unexpected_index_list\": [\n",
      "      0,\n",
      "      1,\n",
      "      2,\n",
      "      3,\n",
      "      4,\n",
      "      5,\n",
      "      6,\n",
      "      7,\n",
      "      8,\n",
      "      9,\n",
      "      10,\n",
      "      11,\n",
      "      12,\n",
      "      13,\n",
      "      14,\n",
      "      15,\n",
      "      16,\n",
      "      17,\n",
      "      18,\n",
      "      19\n",
      "    ]\n",
      "  },\n",
      "  \"meta\": {},\n",
      "  \"exception_info\": {\n",
      "    \"raised_exception\": false,\n",
      "    \"exception_traceback\": null,\n",
      "    \"exception_message\": null\n",
      "  }\n",
      "}\n"
     ]
    }
   ],
   "source": [
    "\n",
    "#Run and get the results!\n",
    "validation_result = batch.validate(expectation)\n",
    "print(validation_result)\n"
   ]
  }
 ],
 "metadata": {
  "kernelspec": {
   "display_name": ".venv",
   "language": "python",
   "name": "python3"
  },
  "language_info": {
   "codemirror_mode": {
    "name": "ipython",
    "version": 3
   },
   "file_extension": ".py",
   "mimetype": "text/x-python",
   "name": "python",
   "nbconvert_exporter": "python",
   "pygments_lexer": "ipython3",
   "version": "3.9.22"
  }
 },
 "nbformat": 4,
 "nbformat_minor": 5
}

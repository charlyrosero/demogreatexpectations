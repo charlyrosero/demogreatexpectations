{
 "cells": [
  {
   "cell_type": "markdown",
   "id": "dc42313e",
   "metadata": {},
   "source": [
    "## SetUp the tool\n",
    "- Prepare the environment\n",
    "- Read data asset (synthetic data)"
   ]
  },
  {
   "cell_type": "code",
   "execution_count": 53,
   "id": "a9499bdf",
   "metadata": {},
   "outputs": [
    {
     "name": "stdout",
     "output_type": "stream",
     "text": [
      "   transaction_id  customer_id            transaction_date  \\\n",
      "0               1         2685  2025-03-06 17:50:46.055480   \n",
      "1               2         1769  2024-05-06 17:50:46.055480   \n",
      "2               3         7949  2024-12-20 17:50:46.055480   \n",
      "3               4         3433  2024-07-16 17:50:46.055480   \n",
      "4               5         6311  2024-08-07 17:50:46.055480   \n",
      "5               6         6051  2024-11-19 17:50:46.055480   \n",
      "6               7         7420  2025-02-02 17:50:46.055480   \n",
      "7               8         2184  2025-03-06 17:50:46.055480   \n",
      "8               9         5555  2024-07-16 17:50:46.055480   \n",
      "9              10         4385  2024-11-03 17:50:46.055480   \n",
      "\n",
      "   transaction_amount account_type transaction_type     status  \n",
      "0         2310.159223     checking       withdrawal  completed  \n",
      "1         2069.799784      savings       withdrawal    pending  \n",
      "2         6383.228325   investment       withdrawal  completed  \n",
      "3         2576.269638     checking       withdrawal  completed  \n",
      "4         6323.834705   investment       withdrawal  completed  \n",
      "5          593.961595   investment          deposit    pending  \n",
      "6         1426.326191      savings         transfer  completed  \n",
      "7         2752.657137   investment          deposit  completed  \n",
      "8         5974.498700      savings       withdrawal  completed  \n",
      "9                 NaN      savings       withdrawal  completed  \n"
     ]
    }
   ],
   "source": [
    "import pandas as pd\n",
    "from datetime import datetime, timedelta\n",
    "import great_expectations as gx\n",
    "import numpy as np\n",
    "\n",
    "df = pd.read_csv('data/synthetic_data.csv')\n",
    "print(df.head(10))\n",
    "\n",
    "context = gx.get_context()\n",
    "\n",
    "data_source = context.data_sources.add_pandas(\"pandas\")\n",
    "data_asset = data_source.add_dataframe_asset(name=\"pd dataframe asset\")\n",
    "batch_definition = data_asset.add_batch_definition_whole_dataframe(\"batch definition\")\n",
    "batch = batch_definition.get_batch(batch_parameters={\"dataframe\": df})"
   ]
  },
  {
   "cell_type": "markdown",
   "id": "191bac7d",
   "metadata": {
    "vscode": {
     "languageId": "plaintext"
    }
   },
   "source": [
    "## Implementing Data Quality Checks with Great Expectations\n",
    "\n",
    "We'll now define and execute expectations for our two focus dimensions:\n",
    "\n",
    "### 1. Accuracy Expectations\n",
    "- Transaction amounts should be positive"
   ]
  },
  {
   "cell_type": "code",
   "execution_count": 49,
   "id": "a8d970c8",
   "metadata": {},
   "outputs": [
    {
     "name": "stdout",
     "output_type": "stream",
     "text": [
      "Executing Accuracy Expectations...\n"
     ]
    },
    {
     "data": {
      "application/vnd.jupyter.widget-view+json": {
       "model_id": "61900c5ec6214784863c38fcfa9a3035",
       "version_major": 2,
       "version_minor": 0
      },
      "text/plain": [
       "Calculating Metrics:   0%|          | 0/10 [00:00<?, ?it/s]"
      ]
     },
     "metadata": {},
     "output_type": "display_data"
    },
    {
     "name": "stdout",
     "output_type": "stream",
     "text": [
      "|    | Data Quality Issue   | Expectation                  | Success   |   Total records |   Unexpected records | Unexpected percentage   | Partial List                                                                                                                                             |\n",
      "|----|----------------------|------------------------------|-----------|-----------------|----------------------|-------------------------|----------------------------------------------------------------------------------------------------------------------------------------------------------|\n",
      "|  0 | Accuracy             | Positive Transaction Amounts | True      |            1000 |                   19 | 1.96%                   | [-100.0, -100.0, -100.0, -100.0, -100.0, -100.0, -100.0, -100.0, -100.0, -100.0, -100.0, -100.0, -100.0, -100.0, -100.0, -100.0, -100.0, -100.0, -100.0] |\n"
     ]
    }
   ],
   "source": [
    "\n",
    "# Define expectations\n",
    "expectations_results = []\n",
    "\n",
    "# Accuracy Expectations\n",
    "print(\"Executing Accuracy Expectations...\")\n",
    "\n",
    "# 1. Transaction Amount Validation\n",
    "expectation = gx.expectations.ExpectColumnValuesToBeBetween(\n",
    "    column=\"transaction_amount\", \n",
    "    min_value=0,\n",
    "    mostly=0.95\n",
    ")\n",
    "\n",
    "validation_result = batch.validate(expectation)\n",
    "\n",
    "expectations_results.append({\n",
    "    'Data Quality Issue': 'Accuracy',\n",
    "    'Expectation': 'Positive Transaction Amounts',\n",
    "    'Success': validation_result['success'],\n",
    "    'Total records': validation_result['result']['element_count'],\n",
    "    'Unexpected records': validation_result['result']['unexpected_count'],\n",
    "    'Unexpected percentage': f\"{validation_result['result']['unexpected_percent']:.2f}%\",\n",
    "    'Partial List': validation_result['result']['partial_unexpected_list'],\n",
    "})\n",
    "df_results = pd.DataFrame(expectations_results)\n",
    "from tabulate import tabulate\n",
    "\n",
    "print(tabulate(df_results, headers='keys', tablefmt='github'))\n"
   ]
  },
  {
   "cell_type": "markdown",
   "id": "57720573",
   "metadata": {},
   "source": [
    "### 2. Completeness Expectations\n",
    "- Identifying missing transaction_type values"
   ]
  },
  {
   "cell_type": "code",
   "execution_count": 50,
   "id": "631372fd",
   "metadata": {},
   "outputs": [
    {
     "name": "stdout",
     "output_type": "stream",
     "text": [
      "Executing Completeness Expectations...\n"
     ]
    },
    {
     "data": {
      "application/vnd.jupyter.widget-view+json": {
       "model_id": "07271aec76864820b3e87a13ac752985",
       "version_major": 2,
       "version_minor": 0
      },
      "text/plain": [
       "Calculating Metrics:   0%|          | 0/8 [00:00<?, ?it/s]"
      ]
     },
     "metadata": {},
     "output_type": "display_data"
    },
    {
     "name": "stdout",
     "output_type": "stream",
     "text": [
      "|    | Data Quality Issue   | Expectation                                          | Success   |   Total records |   Unexpected records | Unexpected percentage   | Partial List                                                                                                                                             |\n",
      "|----|----------------------|------------------------------------------------------|-----------|-----------------|----------------------|-------------------------|----------------------------------------------------------------------------------------------------------------------------------------------------------|\n",
      "|  0 | Accuracy             | Positive Transaction Amounts                         | True      |            1000 |                   19 | 1.96%                   | [-100.0, -100.0, -100.0, -100.0, -100.0, -100.0, -100.0, -100.0, -100.0, -100.0, -100.0, -100.0, -100.0, -100.0, -100.0, -100.0, -100.0, -100.0, -100.0] |\n",
      "|  1 | Completeness         | Expect transaction_type column values to not be null | False     |            1000 |                   92 | 9.20%                   | [nan, nan, nan, nan, nan, nan, nan, nan, nan, nan, nan, nan, nan, nan, nan, nan, nan, nan, nan, nan]                                                     |\n"
     ]
    }
   ],
   "source": [
    "# 1. Transaction Amount Validation\n",
    "expectation = gx.expectations.ExpectColumnValuesToNotBeNull(\n",
    "    column=\"transaction_type\",\n",
    "    #value_set=[\"deposit\", \"withdrawal\", \"transfer\", \"payment\"]\n",
    ")\n",
    "\n",
    "print(\"Executing Completeness Expectations...\")\n",
    "\n",
    "validation_result = batch.validate(expectation)\n",
    "\n",
    "expectations_results.append({\n",
    "        'Data Quality Issue': 'Completeness',\n",
    "        'Expectation': 'Expect transaction_type column values to not be null',\n",
    "        'Success': validation_result['success'],\n",
    "        'Total records': validation_result['result']['element_count'],\n",
    "        'Unexpected records': validation_result['result']['unexpected_count'],\n",
    "        'Unexpected percentage': f\"{validation_result['result']['unexpected_percent']:.2f}%\",\n",
    "        'Partial List': validation_result['result']['partial_unexpected_list'],\n",
    "    })\n",
    "df_results = pd.DataFrame(expectations_results)\n",
    "from tabulate import tabulate\n",
    "\n",
    "print(tabulate(df_results, headers='keys', tablefmt='github'))"
   ]
  }
 ],
 "metadata": {
  "kernelspec": {
   "display_name": ".venv",
   "language": "python",
   "name": "python3"
  },
  "language_info": {
   "codemirror_mode": {
    "name": "ipython",
    "version": 3
   },
   "file_extension": ".py",
   "mimetype": "text/x-python",
   "name": "python",
   "nbconvert_exporter": "python",
   "pygments_lexer": "ipython3",
   "version": "3.9.22"
  }
 },
 "nbformat": 4,
 "nbformat_minor": 5
}
